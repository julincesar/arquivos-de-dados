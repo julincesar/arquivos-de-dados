{
 "cells": [
  {
   "cell_type": "markdown",
   "metadata": {},
   "source": [
    "# Aula sobre Agrupamento Hierárquico\n",
    "#### UFRN\n",
    "#### Pós-graduação Business Intelligence\n",
    "#### Disciplina Ciência de Dados\n",
    "#### Professor Leonardo\n",
    "#### Alunos Gileno, Júlio, Thiago"
   ]
  },
  {
   "cell_type": "markdown",
   "metadata": {},
   "source": [
    "> **Obs.:** Este exemplo, apesar de usado com dados extraídos pela própria equipe, baseou os passos no seguinte post:\n",
    "> [A hierarchical clustering and dendrogram example using SciPy and pandas](http://datanongrata.com/2019/04/27/67/)\n",
    "___\n",
    "Primeiramente vamos aos imports necessários:"
   ]
  },
  {
   "cell_type": "code",
   "execution_count": 5,
   "metadata": {},
   "outputs": [
    {
     "name": "stdout",
     "output_type": "stream",
     "text": [
      "Populating the interactive namespace from numpy and matplotlib\n"
     ]
    }
   ],
   "source": [
    "import numpy as np\n",
    "import matplotlib\n",
    "import matplotlib.pyplot as plt\n",
    "from collections import defaultdict\n",
    "from scipy.spatial.distance import pdist, squareform\n",
    "from scipy.cluster.hierarchy import linkage, dendrogram\n",
    "from matplotlib.colors import rgb2hex, colorConverter\n",
    "from scipy.cluster.hierarchy import set_link_color_palette\n",
    "import pandas as pd\n",
    "import scipy.cluster.hierarchy as sch\n",
    "from pandas.plotting import scatter_matrix\n",
    "%pylab inline\n",
    "\n",
    "from pylab import rcParams\n",
    "rcParams['figure.figsize'] = 12, 9\n",
    "\n",
    "import seaborn as sns\n",
    "sns.set_style(\"whitegrid\")"
   ]
  },
  {
   "cell_type": "markdown",
   "metadata": {},
   "source": [
    "A primeira coisa é a leitura dos meus dados. \n",
    "Iremos utilizar a função de leitura de csv do pandas em cima do mesmo csv que explicamos na aula anterior. O arquivo contém a lista de estados brasileiros com algumas informações sobre os estados, quais sejam:\n",
    "\n",
    "- Quantidade de processos eleitorais em tramitação nas zonas eleitorais;\n",
    "- População;\n",
    "- PIB;\n",
    "- Quantidade de Entrada de Turistas no ano de 2018.\n"
   ]
  },
  {
   "cell_type": "code",
   "execution_count": 2,
   "metadata": {},
   "outputs": [],
   "source": [
    "df = pd.read_csv('https://raw.githubusercontent.com/julincesar/arquivos-de-dados/master/processosTRE2d.csv', index_col=0)"
   ]
  },
  {
   "cell_type": "markdown",
   "metadata": {},
   "source": [
    "Iremos fazer uma análise inicial sobre a relação entre a população e o PIB dos estados, pois foi a combinação em que ficou mais parecido com uma correlação entre as **features**."
   ]
  },
  {
   "cell_type": "code",
   "execution_count": 6,
   "metadata": {},
   "outputs": [
    {
     "data": {
      "image/png": "[encoded data removed]",
      "text/plain": [
       "<Figure size 864x648 with 1 Axes>"
      ]
     },
     "metadata": {},
     "output_type": "display_data"
    }
   ],
   "source": [
    "df.plot(kind='scatter',x='populacao',y='pib', color='Red', label='PIB x Pop') # scatter plot\n",
    "plt.show()"
   ]
  },
  {
   "cell_type": "markdown",
   "metadata": {},
   "source": [
    "De início podemos perceber o estado de São Paulo como outlier desse gráfico nas duas dimensões.\n",
    ">*Quer dizer, dá pra supor. Queria aprender como faz pra cada ponto aparecer com uma cor diferente e as legendas aparecerem ao lado. Tem como?*\n",
    "\n",
    "Fora isso, será que dá pra fazer um dendrograma interessante nesse gráfico?\n",
    "Bora ver.\n",
    "\n"
   ]
  },
  {
   "cell_type": "markdown",
   "metadata": {},
   "source": [
    "Precisamos decidir agrupar por linhas ou colunas. \n",
    "- Se o agrupamento for pelas colunas, pode usar o dataframe sem mexer. \n",
    "- Se for agrupar pelas linhas, tem que transpor o dataframe."
   ]
  },
  {
   "cell_type": "code",
   "execution_count": 7,
   "metadata": {},
   "outputs": [
    {
     "name": "stdout",
     "output_type": "stream",
     "text": [
      "         populacao      pib\n",
      "estados                    \n",
      "SP        45919049  2038005\n",
      "RJ        17264943   640186\n",
      "MG        21168791   544634\n",
      "RS        11377239   408645\n",
      "PR        11433957   401662\n",
      "BA        14873064   258649\n",
      "SC         7164788   256661\n",
      "DF         3015268   235497\n",
      "GO         7018354   181692\n",
      "PE         9557071   167290\n",
      "CE         9132078   138379\n",
      "PA         8602865   138068\n",
      "MT         3484466   123834\n",
      "ES         4018650   109227\n",
      "MS         2778986    91866\n",
      "AM         4144597    89017\n",
      "MA         7075181    85286\n",
      "RN         3506853    59661\n",
      "PB         4018127    59089\n",
      "AL         3337357    49456\n",
      "PI         3273227    41406\n",
      "RO         1777225    39451\n",
      "SE         2298696    38867\n",
      "TO         1572866    31576\n",
      "AP          845731    14339\n",
      "AC          881935    13751\n",
      "RR          605761    11011\n"
     ]
    }
   ],
   "source": [
    "df_t=df.transpose()\n",
    "print(df)"
   ]
  },
  {
   "cell_type": "markdown",
   "metadata": {},
   "source": [
    "Para normalizar os dados, já que as dimensões dos atributos são bem discrepantes, então usamos o StandardScaler."
   ]
  },
  {
   "cell_type": "code",
   "execution_count": 8,
   "metadata": {},
   "outputs": [],
   "source": [
    "from sklearn.preprocessing import StandardScaler\n",
    "scaler = StandardScaler()"
   ]
  },
  {
   "cell_type": "markdown",
   "metadata": {},
   "source": [
    "Depois tem que calcular as matrizes de distância e de ligação, respectivamente, usando a biblioteca ScyPy.\n",
    "> Consulte a documentação ScyPy para [pdist](https://docs.scipy.org/doc/scipy-0.15.1/reference/generated/scipy.spatial.distance.pdist.html) e [linkage](https://docs.scipy.org/doc/scipy/reference/generated/scipy.cluster.hierarchy.linkage.html), para maiores detalhes.\n",
    "\n",
    "Neste caso, usamos o parâmetro default de cálculo de distância (Euclidiana). Equivale à L2-norm como métrica de distância entre os pontos. \n",
    "Uma vez que o objetivo do agrupamento é minimizar as distâncias entre os pontos do mesmo grupo, o propósito do algoritmo de ligação é calcular a distância entre os agrupamentos. \n",
    "Você pode escolher, por exemplo, a distância entre os centróides dos grupos ou a distância entre os pontos mais próximos em cada grupo.\n",
    "\n",
    "Optamos pela opção \"complete\", que usa o algoritmo Voor Hees: d(u,v) = max(dist(u\\[i\\],v\\[j\\]))\n",
    "Que é somente uma forma de dizer que ele calcula todas as distâncias entre os pontos do *cluster* u para o *cluster* v e pega a maior distância entre elas."
   ]
  },
  {
   "cell_type": "code",
   "execution_count": 9,
   "metadata": {},
   "outputs": [],
   "source": [
    "c_dist = pdist(df_t) # calculando as distâncias\n",
    "c_link = linkage(c_dist,  metric='correlation', method='complete')# calculando a ligação entre os clusters"
   ]
  },
  {
   "cell_type": "markdown",
   "metadata": {},
   "source": [
    "Com a matriz de ligação dá pra fazer um dendrograma. Percebam que as colunas originais do CSV são os rótulos do dendrograma. Dependendo dos parâmetros selecionados em pdist e linkage, o dendrograma será diferente."
   ]
  },
  {
   "cell_type": "code",
   "execution_count": 10,
   "metadata": {},
   "outputs": [
    {
     "data": {
      "image/png": "[encoded data removed]",
      "text/plain": [
       "<Figure size 864x648 with 1 Axes>"
      ]
     },
     "metadata": {},
     "output_type": "display_data"
    }
   ],
   "source": [
    "B=dendrogram(c_link,labels=list(df.columns))"
   ]
  },
  {
   "cell_type": "markdown",
   "metadata": {},
   "source": [
    "Criamos uma classe Clusters que dá uma representação em HTML das associações dos grupos, bem como uma função para pegar essas associações e retornar uma legenda mais visível que diz quais Estados estão em cada grupamento, cada um com uma cor diferente que o representa. O código fonte original foi copiado daqui: http://www.nxn.se/valent/extract-cluster-elements-by-color-in-python"
   ]
  },
  {
   "cell_type": "code",
   "execution_count": 11,
   "metadata": {},
   "outputs": [],
   "source": [
    "class Clusters(dict):\n",
    "    def _repr_html_(self):\n",
    "        html = '<table style=\"border: 0;\">'\n",
    "        for c in self:\n",
    "            hx = rgb2hex(colorConverter.to_rgb(c))\n",
    "            html += '<tr style=\"border: 0;\">' \\\n",
    "            '<td style=\"background-color: {0}; ' \\\n",
    "                       'border: 0;\">' \\\n",
    "            '<code style=\"background-color: {0};\">'.format(hx)\n",
    "            html += c + '</code></td>'\n",
    "            html += '<td style=\"border: 0\"><code>' \n",
    "            html += repr(self[c]) + '</code>'\n",
    "            html += '</td></tr>'\n",
    "\n",
    "        html += '</table>'\n",
    "\n",
    "        return html\n",
    "def get_cluster_classes(den, label='ivl'):\n",
    "    cluster_idxs = defaultdict(list)\n",
    "    for c, pi in zip(den['color_list'], den['icoord']):\n",
    "        for leg in pi[1:3]:\n",
    "            i = (leg - 5.0) / 10.0\n",
    "            if abs(i - int(i)) < 1e-5:\n",
    "                cluster_idxs[c].append(int(i))\n",
    "    \n",
    "    cluster_classes = Clusters()\n",
    "    for c, l in cluster_idxs.items():\n",
    "        i_l = [den[label][i] for i in l]\n",
    "        cluster_classes[c] = i_l\n",
    "    \n",
    "    return cluster_classes"
   ]
  },
  {
   "cell_type": "markdown",
   "metadata": {},
   "source": [
    "Peguei emprestado de um outro post uma extensão do dendrograma que mostra as distâncias entre os clusters e também traça a **linha de corte** para seleção dos grupamentos. [SciPy Hierarchical Clustering and Dendrogram Tutorial](https://joernhees.de/blog/2015/08/26/scipy-hierarchical-clustering-and-dendrogram-tutorial/)"
   ]
  },
  {
   "cell_type": "code",
   "execution_count": 37,
   "metadata": {},
   "outputs": [],
   "source": [
    "def fancy_dendrogram(*args, **kwargs):\n",
    "    max_d = kwargs.pop('max_d', None)\n",
    "    if max_d and 'color_threshold' not in kwargs:\n",
    "        kwargs['color_threshold'] = max_d\n",
    "    annotate_above = kwargs.pop('annotate_above', 0)\n",
    "\n",
    "    ddata = dendrogram(*args, **kwargs)\n",
    "    \n",
    "    ax = kwargs.pop('ax', plt.gca())\n",
    "\n",
    "    if not kwargs.get('no_plot', False):\n",
    "        for i, d, c in zip(ddata['icoord'], ddata['dcoord'], ddata['color_list']):\n",
    "            x = 0.5 * sum(i[1:3])\n",
    "            y = d[1]\n",
    "            if y > annotate_above:\n",
    "                ax.plot(x, y, 'o', c=c)\n",
    "                ax.annotate(\"%.3g\" % y, (x, y), xytext=(0, -5),\n",
    "                             textcoords='offset points',\n",
    "                             va='top', ha='center')\n",
    "        if max_d:\n",
    "            ax.axhline(y=max_d, c='k')\n",
    "    return ddata"
   ]
  },
  {
   "cell_type": "markdown",
   "metadata": {},
   "source": [
    "Para simplificar, definimos uma função que empacota os passos:\n",
    "- transposição da matriz;\n",
    "- o cálculo da distância;\n",
    "- o cálculo da ligação entre os grupos;\n",
    "- a apresentação do dendrograma.\n",
    "\n",
    "A função recebe como entrada obrigatória:\n",
    "- um dataframe pandas.\n",
    "- o número de clusters desejados;\n",
    "\n",
    "E retorna um dendrograma como saída.\n",
    "\n",
    "Os outros seis argumentos opcionais são:\n",
    "- max_d é a distância de corte para selecionar os agrupamentos;\n",
    "- annotate_above é o limiar de distância mínima para que ele comece a exibir a distância no dendrograma;\n",
    "- transpor (true para linhas ou false para as colunas);\n",
    "- scale (true para normalizar a escala de distância);\n",
    "- dataname, que recebe uma string que descreve os dados e vai no título do dendrograma;\n",
    "- Save indica se você quer que salve o gráfico como uma figura em PNG;\n",
    "- Xticksize configura o número de ticks no eixo x, importante para legilibilidade.\n"
   ]
  },
  {
   "cell_type": "code",
   "execution_count": 53,
   "metadata": {},
   "outputs": [],
   "source": [
    "def get_linkage(df, transpose=False, scale=False):\n",
    "    if scale==True:\n",
    "        scaler.fit(df)\n",
    "        aml = scaler.transform(df)\n",
    "    else:\n",
    "        aml = df\n",
    "    \n",
    "    if transpose==True:\n",
    "        aml=aml.transpose()\n",
    "\n",
    "    data_dist = pdist(aml.transpose()) # computing the distance\n",
    "    return linkage(data_dist,  metric='correlation', method='complete')#method=\"complete\") # computing the linkage\n",
    "\n",
    "def get_clust_graph(df, numclust, max_d=None, annotate_above=0, transpose=False, scale=False, dataname=None, save=False, xticksize=8):\n",
    "    data_link = get_linkage(df, transpose=transpose, scale=scale)\n",
    "    if transpose==True:\n",
    "        xl=\"linhas\"\n",
    "        rotulos=df.transpose().columns\n",
    "    else:\n",
    "        xl=\"colunas\"\n",
    "        rotulos=df.columns\n",
    "    \n",
    "    #Criando dois axes, um para o dendograma e o outro para o gráfico de dispersão\n",
    "    fig, (ax1, ax2) = plt.subplots(2)\n",
    "    \n",
    "    B=fancy_dendrogram(\n",
    "        data_link,\n",
    "        labels=list(rotulos),\n",
    "        p=numclust, \n",
    "        truncate_mode=\"lastp\",\n",
    "        get_leaves=True, \n",
    "        count_sort='ascending', \n",
    "        show_contracted=True,\n",
    "        annotate_above=annotate_above,\n",
    "        max_d=max_d,\n",
    "        ax=ax1)\n",
    "    get_cluster_classes(B)\n",
    "    ax1.set(title=\"Agrupamento em \" + xl +\" para \"+dataname, ylabel='Distância', xlabel=xl)\n",
    "    ax1.tick_params(axis='x', which='major', labelsize=xticksize)\n",
    "    ax1.tick_params(axis='y', which='major', labelsize=15)\n",
    "    \n",
    "    from scipy.cluster.hierarchy import fcluster\n",
    "    clusters = fcluster(data_link, max_d, criterion='distance')\n",
    "    df.plot(kind='scatter',x='populacao',y='pib', c=clusters, colormap='Dark2', ax=ax2) # scatter plot\n",
    "    \n",
    "    if save:\n",
    "        plt.savefig(str(df.index.name)+str(numclust)+\"tr_\"+str(transpose)+\"dn_\"+str(dataname)+save+'.png')\n",
    "    else:\n",
    "        print(\"Sem gravação de imagem.\")\n",
    "    return get_cluster_classes(B)"
   ]
  },
  {
   "cell_type": "markdown",
   "metadata": {},
   "source": [
    "Vamos tentar com todos os Estados:"
   ]
  },
  {
   "cell_type": "code",
   "execution_count": 54,
   "metadata": {},
   "outputs": [
    {
     "name": "stdout",
     "output_type": "stream",
     "text": [
      "Sem gravação de imagem.\n"
     ]
    },
    {
     "data": {
      "text/html": [
       "<table style=\"border: 0;\"><tr style=\"border: 0;\"><td style=\"background-color: #008000; border: 0;\"><code style=\"background-color: #008000;\">g</code></td><td style=\"border: 0\"><code>['RJ', 'MG']</code></td></tr><tr style=\"border: 0;\"><td style=\"background-color: #ff0000; border: 0;\"><code style=\"background-color: #ff0000;\">r</code></td><td style=\"border: 0\"><code>['RS', 'PR', 'BA', 'SC', 'GO', 'CE', 'PA', 'PE', 'MA']</code></td></tr><tr style=\"border: 0;\"><td style=\"background-color: #00bfbf; border: 0;\"><code style=\"background-color: #00bfbf;\">c</code></td><td style=\"border: 0\"><code>['AP', 'AC', 'RR', 'RO', 'TO', 'SE', 'AL', 'PI', 'RN', 'PB', 'ES', 'AM', 'MT', 'MS', 'DF']</code></td></tr><tr style=\"border: 0;\"><td style=\"background-color: #0000ff; border: 0;\"><code style=\"background-color: #0000ff;\">b</code></td><td style=\"border: 0\"><code>['SP']</code></td></tr></table>"
      ],
      "text/plain": [
       "{'g': ['RJ', 'MG'],\n",
       " 'r': ['RS', 'PR', 'BA', 'SC', 'GO', 'CE', 'PA', 'PE', 'MA'],\n",
       " 'c': ['AP',\n",
       "  'AC',\n",
       "  'RR',\n",
       "  'RO',\n",
       "  'TO',\n",
       "  'SE',\n",
       "  'AL',\n",
       "  'PI',\n",
       "  'RN',\n",
       "  'PB',\n",
       "  'ES',\n",
       "  'AM',\n",
       "  'MT',\n",
       "  'MS',\n",
       "  'DF'],\n",
       " 'b': ['SP']}"
      ]
     },
     "execution_count": 54,
     "metadata": {},
     "output_type": "execute_result"
    },
    {
     "data": {
      "image/png": "[encoded data removed]",
      "text/plain": [
       "<Figure size 864x864 with 3 Axes>"
      ]
     },
     "metadata": {},
     "output_type": "display_data"
    }
   ],
   "source": [
    "max_d=1.5\n",
    "scale=True\n",
    "transpose=True\n",
    "get_clust_graph(df, 27, max_d=max_d, annotate_above=1, transpose=transpose, scale=scale,dataname=\"Números dos estados brasileiros\")"
   ]
  },
  {
   "cell_type": "markdown",
   "metadata": {},
   "source": [
    "Como percebemos, desde a visualização no início do gráfico de dispersão, SP ficou bem isolado como outlier, logo seguido do RJ e MG como grandes estados em população e PIB. "
   ]
  }
 ],
 "metadata": {
  "kernelspec": {
   "display_name": "Python 3",
   "language": "python",
   "name": "python3"
  },
  "language_info": {
   "codemirror_mode": {
    "name": "ipython",
    "version": 3
   },
   "file_extension": ".py",
   "mimetype": "text/x-python",
   "name": "python",
   "nbconvert_exporter": "python",
   "pygments_lexer": "ipython3",
   "version": "3.7.3"
  }
 },
 "nbformat": 4,
 "nbformat_minor": 2
}
